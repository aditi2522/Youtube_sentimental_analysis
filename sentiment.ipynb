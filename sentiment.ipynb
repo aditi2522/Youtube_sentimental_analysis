{
 "cells": [
  {
   "cell_type": "code",
   "execution_count": 1,
   "metadata": {},
   "outputs": [],
   "source": [
    "import pandas as pd\n",
    "import numpy as np\n",
    "pd.set_option('display.max_colwidth', 200)\n",
    "\n",
    "#Visualization packages\n",
    "import matplotlib.pyplot as plt\n",
    "import seaborn as sns\n",
    "\n",
    "#NLP packages\n",
    "from textblob import TextBlob\n",
    "\n",
    "import warnings\n",
    "warnings.filterwarnings(\"ignore\")"
   ]
  },
  {
   "cell_type": "code",
   "execution_count": 2,
   "metadata": {},
   "outputs": [
    {
     "data": {
      "text/plain": [
       "Sentiment(polarity=0.7, subjectivity=0.6000000000000001)"
      ]
     },
     "execution_count": 2,
     "metadata": {},
     "output_type": "execute_result"
    }
   ],
   "source": [
    "#Testing NLP - Sentiment Analysis using TextBlob\n",
    "TextBlob(\"The movie is good\").sentiment\n",
    "\n"
   ]
  },
  {
   "cell_type": "code",
   "execution_count": 3,
   "metadata": {},
   "outputs": [
    {
     "data": {
      "text/plain": [
       "Sentiment(polarity=0.0, subjectivity=0.0)"
      ]
     },
     "execution_count": 3,
     "metadata": {},
     "output_type": "execute_result"
    }
   ],
   "source": [
    "TextBlob(\"aw\").sentiment"
   ]
  },
  {
   "cell_type": "code",
   "execution_count": 4,
   "metadata": {},
   "outputs": [
    {
     "data": {
      "text/plain": [
       "Sentiment(polarity=-0.4, subjectivity=0.6)"
      ]
     },
     "execution_count": 4,
     "metadata": {},
     "output_type": "execute_result"
    }
   ],
   "source": [
    "TextBlob(\"The movie is disguisting, worse i have ever saw in my life\").sentiment"
   ]
  },
  {
   "cell_type": "code",
   "execution_count": 5,
   "metadata": {},
   "outputs": [
    {
     "name": "stderr",
     "output_type": "stream",
     "text": [
      "b'Skipping line 41589: expected 4 fields, saw 11\\nSkipping line 51628: expected 4 fields, saw 7\\nSkipping line 114465: expected 4 fields, saw 5\\n'\n",
      "b'Skipping line 142496: expected 4 fields, saw 8\\nSkipping line 189732: expected 4 fields, saw 6\\nSkipping line 245218: expected 4 fields, saw 7\\n'\n",
      "b'Skipping line 388430: expected 4 fields, saw 5\\n'\n"
     ]
    }
   ],
   "source": [
    "#Importing YouTube comments data\n",
    "comm = pd.read_csv('UScomments.csv',encoding='utf8',error_bad_lines=False);#opening the file UScomments"
   ]
  },
  {
   "cell_type": "code",
   "execution_count": 6,
   "metadata": {},
   "outputs": [
    {
     "name": "stderr",
     "output_type": "stream",
     "text": [
      "b'Skipping line 41589: expected 4 fields, saw 11\\nSkipping line 51628: expected 4 fields, saw 7\\nSkipping line 114465: expected 4 fields, saw 5\\n'\n",
      "b'Skipping line 142496: expected 4 fields, saw 8\\nSkipping line 189732: expected 4 fields, saw 6\\nSkipping line 245218: expected 4 fields, saw 7\\n'\n",
      "b'Skipping line 388430: expected 4 fields, saw 5\\n'\n"
     ]
    }
   ],
   "source": [
    "#Importing YouTube comments data\n",
    "comm = pd.read_csv('UScomments.csv',encoding='utf8',error_bad_lines=False);#opening the file UScomments"
   ]
  },
  {
   "cell_type": "code",
   "execution_count": 7,
   "metadata": {},
   "outputs": [
    {
     "data": {
      "text/plain": [
       "(691400, 4)"
      ]
     },
     "execution_count": 7,
     "metadata": {},
     "output_type": "execute_result"
    }
   ],
   "source": [
    "comm.shape"
   ]
  },
  {
   "cell_type": "code",
   "execution_count": 8,
   "metadata": {},
   "outputs": [
    {
     "data": {
      "text/html": [
       "<div>\n",
       "<style scoped>\n",
       "    .dataframe tbody tr th:only-of-type {\n",
       "        vertical-align: middle;\n",
       "    }\n",
       "\n",
       "    .dataframe tbody tr th {\n",
       "        vertical-align: top;\n",
       "    }\n",
       "\n",
       "    .dataframe thead th {\n",
       "        text-align: right;\n",
       "    }\n",
       "</style>\n",
       "<table border=\"1\" class=\"dataframe\">\n",
       "  <thead>\n",
       "    <tr style=\"text-align: right;\">\n",
       "      <th></th>\n",
       "      <th>video_id</th>\n",
       "      <th>comment_text</th>\n",
       "      <th>likes</th>\n",
       "      <th>replies</th>\n",
       "    </tr>\n",
       "  </thead>\n",
       "  <tbody>\n",
       "    <tr>\n",
       "      <th>0</th>\n",
       "      <td>XpVt6Z1Gjjo</td>\n",
       "      <td>Logan Paul it's yo big day ‼️‼️‼️</td>\n",
       "      <td>4</td>\n",
       "      <td>0</td>\n",
       "    </tr>\n",
       "    <tr>\n",
       "      <th>1</th>\n",
       "      <td>XpVt6Z1Gjjo</td>\n",
       "      <td>I've been following you from the start of your vine channel and have seen all 365 vlogs</td>\n",
       "      <td>3</td>\n",
       "      <td>0</td>\n",
       "    </tr>\n",
       "    <tr>\n",
       "      <th>2</th>\n",
       "      <td>XpVt6Z1Gjjo</td>\n",
       "      <td>Say hi to Kong and maverick for me</td>\n",
       "      <td>3</td>\n",
       "      <td>0</td>\n",
       "    </tr>\n",
       "    <tr>\n",
       "      <th>3</th>\n",
       "      <td>XpVt6Z1Gjjo</td>\n",
       "      <td>MY FAN . attendance</td>\n",
       "      <td>3</td>\n",
       "      <td>0</td>\n",
       "    </tr>\n",
       "    <tr>\n",
       "      <th>4</th>\n",
       "      <td>XpVt6Z1Gjjo</td>\n",
       "      <td>trending 😉</td>\n",
       "      <td>3</td>\n",
       "      <td>0</td>\n",
       "    </tr>\n",
       "  </tbody>\n",
       "</table>\n",
       "</div>"
      ],
      "text/plain": [
       "      video_id  \\\n",
       "0  XpVt6Z1Gjjo   \n",
       "1  XpVt6Z1Gjjo   \n",
       "2  XpVt6Z1Gjjo   \n",
       "3  XpVt6Z1Gjjo   \n",
       "4  XpVt6Z1Gjjo   \n",
       "\n",
       "                                                                              comment_text  \\\n",
       "0                                                        Logan Paul it's yo big day ‼️‼️‼️   \n",
       "1  I've been following you from the start of your vine channel and have seen all 365 vlogs   \n",
       "2                                                       Say hi to Kong and maverick for me   \n",
       "3                                                                      MY FAN . attendance   \n",
       "4                                                                               trending 😉   \n",
       "\n",
       "  likes replies  \n",
       "0     4       0  \n",
       "1     3       0  \n",
       "2     3       0  \n",
       "3     3       0  \n",
       "4     3       0  "
      ]
     },
     "execution_count": 8,
     "metadata": {},
     "output_type": "execute_result"
    }
   ],
   "source": [
    "#Displaying the first 5 rows of the data\n",
    "comm.head()"
   ]
  },
  {
   "cell_type": "code",
   "execution_count": 9,
   "metadata": {},
   "outputs": [
    {
     "data": {
      "text/plain": [
       "(2000, 4)"
      ]
     },
     "execution_count": 9,
     "metadata": {},
     "output_type": "execute_result"
    }
   ],
   "source": [
    "#Extracting 1000 random samples from the data\n",
    "comm = comm.sample(2000)\n",
    "comm.shape"
   ]
  },
  {
   "cell_type": "code",
   "execution_count": 10,
   "metadata": {},
   "outputs": [],
   "source": [
    "pol=[] # list which will contain the polarity of the comments\n",
    "for i in comm.comment_text.values:\n",
    "    try:\n",
    "        analysis =TextBlob(i)\n",
    "        pol.append(analysis.sentiment.polarity)\n",
    "        \n",
    "    except:\n",
    "        pol.append(0)"
   ]
  },
  {
   "cell_type": "code",
   "execution_count": 11,
   "metadata": {},
   "outputs": [],
   "source": [
    "#Adding the Sentiment Polarity column to the data\n",
    "comm['pol']=pol"
   ]
  },
  {
   "cell_type": "code",
   "execution_count": 12,
   "metadata": {},
   "outputs": [],
   "source": [
    "comm['pol'][comm.pol==0]= 0\n",
    "comm['pol'][comm.pol > 0]= 1\n",
    "comm['pol'][comm.pol < 0]= -1"
   ]
  },
  {
   "cell_type": "code",
   "execution_count": 13,
   "metadata": {},
   "outputs": [
    {
     "data": {
      "text/html": [
       "<div>\n",
       "<style scoped>\n",
       "    .dataframe tbody tr th:only-of-type {\n",
       "        vertical-align: middle;\n",
       "    }\n",
       "\n",
       "    .dataframe tbody tr th {\n",
       "        vertical-align: top;\n",
       "    }\n",
       "\n",
       "    .dataframe thead th {\n",
       "        text-align: right;\n",
       "    }\n",
       "</style>\n",
       "<table border=\"1\" class=\"dataframe\">\n",
       "  <thead>\n",
       "    <tr style=\"text-align: right;\">\n",
       "      <th></th>\n",
       "      <th>video_id</th>\n",
       "      <th>comment_text</th>\n",
       "      <th>likes</th>\n",
       "      <th>replies</th>\n",
       "      <th>pol</th>\n",
       "    </tr>\n",
       "  </thead>\n",
       "  <tbody>\n",
       "    <tr>\n",
       "      <th>523149</th>\n",
       "      <td>dJ_p4Z_yVpM</td>\n",
       "      <td>This dance of Armie and Timmy will become a real classic you know, like singing in the rain or la la land:))</td>\n",
       "      <td>0</td>\n",
       "      <td>0</td>\n",
       "      <td>1.0</td>\n",
       "    </tr>\n",
       "    <tr>\n",
       "      <th>604486</th>\n",
       "      <td>Wp2TUPo5W0c</td>\n",
       "      <td>Ily Dan, you're amazing. Can relate  to this so much. If you've ever had any experience with anxiety, or even self harm that'd be something I'd appreciate hearing about. Hope things progress and g...</td>\n",
       "      <td>0</td>\n",
       "      <td>0</td>\n",
       "      <td>1.0</td>\n",
       "    </tr>\n",
       "    <tr>\n",
       "      <th>559217</th>\n",
       "      <td>M3siIx0W8aM</td>\n",
       "      <td>this is very very smilar to the All I Want video</td>\n",
       "      <td>0</td>\n",
       "      <td>1</td>\n",
       "      <td>1.0</td>\n",
       "    </tr>\n",
       "    <tr>\n",
       "      <th>283807</th>\n",
       "      <td>MHMdv2D7ndc</td>\n",
       "      <td>god fucking bless you. i’m so proud. you are loved.</td>\n",
       "      <td>0</td>\n",
       "      <td>0</td>\n",
       "      <td>1.0</td>\n",
       "    </tr>\n",
       "    <tr>\n",
       "      <th>511271</th>\n",
       "      <td>IRdrt8nPyy8</td>\n",
       "      <td>I'M SO EXCITED</td>\n",
       "      <td>0</td>\n",
       "      <td>0</td>\n",
       "      <td>1.0</td>\n",
       "    </tr>\n",
       "    <tr>\n",
       "      <th>383222</th>\n",
       "      <td>AaGVAaGylgQ</td>\n",
       "      <td>Tamar I love your outfit! I can see you have matured a lot.</td>\n",
       "      <td>0</td>\n",
       "      <td>0</td>\n",
       "      <td>1.0</td>\n",
       "    </tr>\n",
       "    <tr>\n",
       "      <th>350183</th>\n",
       "      <td>gDf4RpaMFrk</td>\n",
       "      <td>Wow, pretty much spot on!!</td>\n",
       "      <td>1</td>\n",
       "      <td>1</td>\n",
       "      <td>1.0</td>\n",
       "    </tr>\n",
       "    <tr>\n",
       "      <th>414328</th>\n",
       "      <td>is7Hx7B5e2c</td>\n",
       "      <td>Mark was born to Jive he always has some great choreo for this dance! &lt;3</td>\n",
       "      <td>35</td>\n",
       "      <td>0</td>\n",
       "      <td>1.0</td>\n",
       "    </tr>\n",
       "    <tr>\n",
       "      <th>231824</th>\n",
       "      <td>SNCeopgkSAU</td>\n",
       "      <td>Atlanta yes...I wish this had its time, plus took over Dallas's time.....that would be soooooo good.</td>\n",
       "      <td>0</td>\n",
       "      <td>0</td>\n",
       "      <td>1.0</td>\n",
       "    </tr>\n",
       "    <tr>\n",
       "      <th>129272</th>\n",
       "      <td>wGwsgf5CdxU</td>\n",
       "      <td>I can't count how many times 7 has been called safe and now that safe is bad you say he took a lot of risks. Whether you're right or wrong be consistent. \\nNot making a stance on the petition.</td>\n",
       "      <td>0</td>\n",
       "      <td>0</td>\n",
       "      <td>1.0</td>\n",
       "    </tr>\n",
       "  </tbody>\n",
       "</table>\n",
       "</div>"
      ],
      "text/plain": [
       "           video_id  \\\n",
       "523149  dJ_p4Z_yVpM   \n",
       "604486  Wp2TUPo5W0c   \n",
       "559217  M3siIx0W8aM   \n",
       "283807  MHMdv2D7ndc   \n",
       "511271  IRdrt8nPyy8   \n",
       "383222  AaGVAaGylgQ   \n",
       "350183  gDf4RpaMFrk   \n",
       "414328  is7Hx7B5e2c   \n",
       "231824  SNCeopgkSAU   \n",
       "129272  wGwsgf5CdxU   \n",
       "\n",
       "                                                                                                                                                                                                   comment_text  \\\n",
       "523149                                                                                             This dance of Armie and Timmy will become a real classic you know, like singing in the rain or la la land:))   \n",
       "604486  Ily Dan, you're amazing. Can relate  to this so much. If you've ever had any experience with anxiety, or even self harm that'd be something I'd appreciate hearing about. Hope things progress and g...   \n",
       "559217                                                                                                                                                         this is very very smilar to the All I Want video   \n",
       "283807                                                                                                                                                      god fucking bless you. i’m so proud. you are loved.   \n",
       "511271                                                                                                                                                                                           I'M SO EXCITED   \n",
       "383222                                                                                                                                              Tamar I love your outfit! I can see you have matured a lot.   \n",
       "350183                                                                                                                                                                               Wow, pretty much spot on!!   \n",
       "414328                                                                                                                                 Mark was born to Jive he always has some great choreo for this dance! <3   \n",
       "231824                                                                                                     Atlanta yes...I wish this had its time, plus took over Dallas's time.....that would be soooooo good.   \n",
       "129272         I can't count how many times 7 has been called safe and now that safe is bad you say he took a lot of risks. Whether you're right or wrong be consistent. \\nNot making a stance on the petition.   \n",
       "\n",
       "       likes replies  pol  \n",
       "523149     0       0  1.0  \n",
       "604486     0       0  1.0  \n",
       "559217     0       1  1.0  \n",
       "283807     0       0  1.0  \n",
       "511271     0       0  1.0  \n",
       "383222     0       0  1.0  \n",
       "350183     1       1  1.0  \n",
       "414328    35       0  1.0  \n",
       "231824     0       0  1.0  \n",
       "129272     0       0  1.0  "
      ]
     },
     "execution_count": 13,
     "metadata": {},
     "output_type": "execute_result"
    }
   ],
   "source": [
    "#Displaying the POSITIVE comments\n",
    "df_positive = comm[comm.pol==1]\n",
    "df_positive.head(10)"
   ]
  },
  {
   "cell_type": "code",
   "execution_count": 14,
   "metadata": {},
   "outputs": [
    {
     "data": {
      "text/html": [
       "<div>\n",
       "<style scoped>\n",
       "    .dataframe tbody tr th:only-of-type {\n",
       "        vertical-align: middle;\n",
       "    }\n",
       "\n",
       "    .dataframe tbody tr th {\n",
       "        vertical-align: top;\n",
       "    }\n",
       "\n",
       "    .dataframe thead th {\n",
       "        text-align: right;\n",
       "    }\n",
       "</style>\n",
       "<table border=\"1\" class=\"dataframe\">\n",
       "  <thead>\n",
       "    <tr style=\"text-align: right;\">\n",
       "      <th></th>\n",
       "      <th>video_id</th>\n",
       "      <th>comment_text</th>\n",
       "      <th>likes</th>\n",
       "      <th>replies</th>\n",
       "      <th>pol</th>\n",
       "    </tr>\n",
       "  </thead>\n",
       "  <tbody>\n",
       "    <tr>\n",
       "      <th>299017</th>\n",
       "      <td>439iY0844xI</td>\n",
       "      <td>very naive overthinking</td>\n",
       "      <td>0</td>\n",
       "      <td>0</td>\n",
       "      <td>-1.0</td>\n",
       "    </tr>\n",
       "    <tr>\n",
       "      <th>491268</th>\n",
       "      <td>Y61Q5w8qdSw</td>\n",
       "      <td>Stop wtf</td>\n",
       "      <td>1</td>\n",
       "      <td>0</td>\n",
       "      <td>-1.0</td>\n",
       "    </tr>\n",
       "    <tr>\n",
       "      <th>590549</th>\n",
       "      <td>vOkzPTAZ8-E</td>\n",
       "      <td>wtf</td>\n",
       "      <td>0</td>\n",
       "      <td>0</td>\n",
       "      <td>-1.0</td>\n",
       "    </tr>\n",
       "    <tr>\n",
       "      <th>52188</th>\n",
       "      <td>RJuqdTXhDX4</td>\n",
       "      <td>sorry but im on iphone xxxxxxxxxl s color c</td>\n",
       "      <td>0</td>\n",
       "      <td>0</td>\n",
       "      <td>-1.0</td>\n",
       "    </tr>\n",
       "    <tr>\n",
       "      <th>184286</th>\n",
       "      <td>JPTB93NS_8M</td>\n",
       "      <td>Hola random person scrolling through the coments!</td>\n",
       "      <td>0</td>\n",
       "      <td>0</td>\n",
       "      <td>-1.0</td>\n",
       "    </tr>\n",
       "    <tr>\n",
       "      <th>156796</th>\n",
       "      <td>f8Ej3RVz-Bk</td>\n",
       "      <td>I go berserk when I hear half of the US voted for Trump! No they didn’t!! On 11/8/17 there were 230.5 million eligible voters in the US, only 62.9 million of them voted for Trump (about 27%). Thos...</td>\n",
       "      <td>0</td>\n",
       "      <td>0</td>\n",
       "      <td>-1.0</td>\n",
       "    </tr>\n",
       "    <tr>\n",
       "      <th>203523</th>\n",
       "      <td>lUFpahcEOX8</td>\n",
       "      <td>Stalling democracy may strikes again.\\nGet this horrific woman out now.</td>\n",
       "      <td>3</td>\n",
       "      <td>0</td>\n",
       "      <td>-1.0</td>\n",
       "    </tr>\n",
       "    <tr>\n",
       "      <th>25696</th>\n",
       "      <td>Ez95rPffd8k</td>\n",
       "      <td>You should not be sad for him, I'm sad for you and your audience that doesn't get it.  The rest of the world needs to catch up with the wisdom he is sharing.</td>\n",
       "      <td>0</td>\n",
       "      <td>0</td>\n",
       "      <td>-1.0</td>\n",
       "    </tr>\n",
       "    <tr>\n",
       "      <th>370466</th>\n",
       "      <td>-otJ1LJGzcc</td>\n",
       "      <td>REPEAT AFTER ME! the shooter is a terrorist...not an elderly mentally unstable white male....he is a terrorist.</td>\n",
       "      <td>2</td>\n",
       "      <td>0</td>\n",
       "      <td>-1.0</td>\n",
       "    </tr>\n",
       "    <tr>\n",
       "      <th>61744</th>\n",
       "      <td>-Ifnaxi2LQg</td>\n",
       "      <td>This is boring I was here to see this two chicks do something amazing but it wasn't even meh</td>\n",
       "      <td>0</td>\n",
       "      <td>0</td>\n",
       "      <td>-1.0</td>\n",
       "    </tr>\n",
       "  </tbody>\n",
       "</table>\n",
       "</div>"
      ],
      "text/plain": [
       "           video_id  \\\n",
       "299017  439iY0844xI   \n",
       "491268  Y61Q5w8qdSw   \n",
       "590549  vOkzPTAZ8-E   \n",
       "52188   RJuqdTXhDX4   \n",
       "184286  JPTB93NS_8M   \n",
       "156796  f8Ej3RVz-Bk   \n",
       "203523  lUFpahcEOX8   \n",
       "25696   Ez95rPffd8k   \n",
       "370466  -otJ1LJGzcc   \n",
       "61744   -Ifnaxi2LQg   \n",
       "\n",
       "                                                                                                                                                                                                   comment_text  \\\n",
       "299017                                                                                                                                                                                  very naive overthinking   \n",
       "491268                                                                                                                                                                                                 Stop wtf   \n",
       "590549                                                                                                                                                                                                      wtf   \n",
       "52188                                                                                                                                                               sorry but im on iphone xxxxxxxxxl s color c   \n",
       "184286                                                                                                                                                        Hola random person scrolling through the coments!   \n",
       "156796  I go berserk when I hear half of the US voted for Trump! No they didn’t!! On 11/8/17 there were 230.5 million eligible voters in the US, only 62.9 million of them voted for Trump (about 27%). Thos...   \n",
       "203523                                                                                                                                  Stalling democracy may strikes again.\\nGet this horrific woman out now.   \n",
       "25696                                             You should not be sad for him, I'm sad for you and your audience that doesn't get it.  The rest of the world needs to catch up with the wisdom he is sharing.   \n",
       "370466                                                                                          REPEAT AFTER ME! the shooter is a terrorist...not an elderly mentally unstable white male....he is a terrorist.   \n",
       "61744                                                                                                              This is boring I was here to see this two chicks do something amazing but it wasn't even meh   \n",
       "\n",
       "       likes replies  pol  \n",
       "299017     0       0 -1.0  \n",
       "491268     1       0 -1.0  \n",
       "590549     0       0 -1.0  \n",
       "52188      0       0 -1.0  \n",
       "184286     0       0 -1.0  \n",
       "156796     0       0 -1.0  \n",
       "203523     3       0 -1.0  \n",
       "25696      0       0 -1.0  \n",
       "370466     2       0 -1.0  \n",
       "61744      0       0 -1.0  "
      ]
     },
     "execution_count": 14,
     "metadata": {},
     "output_type": "execute_result"
    }
   ],
   "source": [
    "#Displaying the NEGATIVE comments\n",
    "df_positive = comm[comm.pol==-1]\n",
    "df_positive.head(10)\n"
   ]
  },
  {
   "cell_type": "code",
   "execution_count": 15,
   "metadata": {},
   "outputs": [
    {
     "data": {
      "text/html": [
       "<div>\n",
       "<style scoped>\n",
       "    .dataframe tbody tr th:only-of-type {\n",
       "        vertical-align: middle;\n",
       "    }\n",
       "\n",
       "    .dataframe tbody tr th {\n",
       "        vertical-align: top;\n",
       "    }\n",
       "\n",
       "    .dataframe thead th {\n",
       "        text-align: right;\n",
       "    }\n",
       "</style>\n",
       "<table border=\"1\" class=\"dataframe\">\n",
       "  <thead>\n",
       "    <tr style=\"text-align: right;\">\n",
       "      <th></th>\n",
       "      <th>video_id</th>\n",
       "      <th>comment_text</th>\n",
       "      <th>likes</th>\n",
       "      <th>replies</th>\n",
       "      <th>pol</th>\n",
       "    </tr>\n",
       "  </thead>\n",
       "  <tbody>\n",
       "    <tr>\n",
       "      <th>31287</th>\n",
       "      <td>_GC5AVsf528</td>\n",
       "      <td>Hey, its Kurt Cobain.</td>\n",
       "      <td>0</td>\n",
       "      <td>0</td>\n",
       "      <td>0.0</td>\n",
       "    </tr>\n",
       "    <tr>\n",
       "      <th>137968</th>\n",
       "      <td>oqmSuPJfvJo</td>\n",
       "      <td>Where is the recipe?</td>\n",
       "      <td>0</td>\n",
       "      <td>0</td>\n",
       "      <td>0.0</td>\n",
       "    </tr>\n",
       "    <tr>\n",
       "      <th>525883</th>\n",
       "      <td>bpDylTwwunc</td>\n",
       "      <td>Damn she got a fat ass</td>\n",
       "      <td>0</td>\n",
       "      <td>0</td>\n",
       "      <td>0.0</td>\n",
       "    </tr>\n",
       "    <tr>\n",
       "      <th>595290</th>\n",
       "      <td>0hLx_1Q15eY</td>\n",
       "      <td>Oh I thought this was about drugs like cocine, meth or others</td>\n",
       "      <td>0</td>\n",
       "      <td>0</td>\n",
       "      <td>0.0</td>\n",
       "    </tr>\n",
       "    <tr>\n",
       "      <th>643008</th>\n",
       "      <td>MiQYQQcG1HQ</td>\n",
       "      <td>Trivago</td>\n",
       "      <td>0</td>\n",
       "      <td>0</td>\n",
       "      <td>0.0</td>\n",
       "    </tr>\n",
       "    <tr>\n",
       "      <th>101211</th>\n",
       "      <td>zcqZHYo7ONs</td>\n",
       "      <td>I got blocked at a</td>\n",
       "      <td>0</td>\n",
       "      <td>0</td>\n",
       "      <td>0.0</td>\n",
       "    </tr>\n",
       "    <tr>\n",
       "      <th>395516</th>\n",
       "      <td>9sjLzdix70w</td>\n",
       "      <td>They. all need.  fired</td>\n",
       "      <td>0</td>\n",
       "      <td>0</td>\n",
       "      <td>0.0</td>\n",
       "    </tr>\n",
       "    <tr>\n",
       "      <th>144075</th>\n",
       "      <td>Tm8LGxTLtQk</td>\n",
       "      <td>Rest in peace</td>\n",
       "      <td>0</td>\n",
       "      <td>0</td>\n",
       "      <td>0.0</td>\n",
       "    </tr>\n",
       "    <tr>\n",
       "      <th>547844</th>\n",
       "      <td>FUBXKn1oP0g</td>\n",
       "      <td>Can you do an undertale costume please</td>\n",
       "      <td>0</td>\n",
       "      <td>0</td>\n",
       "      <td>0.0</td>\n",
       "    </tr>\n",
       "    <tr>\n",
       "      <th>237280</th>\n",
       "      <td>OCCKNCvNbkc</td>\n",
       "      <td>Shane looks so nervous</td>\n",
       "      <td>0</td>\n",
       "      <td>0</td>\n",
       "      <td>0.0</td>\n",
       "    </tr>\n",
       "  </tbody>\n",
       "</table>\n",
       "</div>"
      ],
      "text/plain": [
       "           video_id  \\\n",
       "31287   _GC5AVsf528   \n",
       "137968  oqmSuPJfvJo   \n",
       "525883  bpDylTwwunc   \n",
       "595290  0hLx_1Q15eY   \n",
       "643008  MiQYQQcG1HQ   \n",
       "101211  zcqZHYo7ONs   \n",
       "395516  9sjLzdix70w   \n",
       "144075  Tm8LGxTLtQk   \n",
       "547844  FUBXKn1oP0g   \n",
       "237280  OCCKNCvNbkc   \n",
       "\n",
       "                                                         comment_text likes  \\\n",
       "31287                                           Hey, its Kurt Cobain.     0   \n",
       "137968                                           Where is the recipe?     0   \n",
       "525883                                         Damn she got a fat ass     0   \n",
       "595290  Oh I thought this was about drugs like cocine, meth or others     0   \n",
       "643008                                                        Trivago     0   \n",
       "101211                                             I got blocked at a     0   \n",
       "395516                                         They. all need.  fired     0   \n",
       "144075                                                  Rest in peace     0   \n",
       "547844                         Can you do an undertale costume please     0   \n",
       "237280                                         Shane looks so nervous     0   \n",
       "\n",
       "       replies  pol  \n",
       "31287        0  0.0  \n",
       "137968       0  0.0  \n",
       "525883       0  0.0  \n",
       "595290       0  0.0  \n",
       "643008       0  0.0  \n",
       "101211       0  0.0  \n",
       "395516       0  0.0  \n",
       "144075       0  0.0  \n",
       "547844       0  0.0  \n",
       "237280       0  0.0  "
      ]
     },
     "execution_count": 15,
     "metadata": {},
     "output_type": "execute_result"
    }
   ],
   "source": [
    "#Displaying the NEUTRAL comments\n",
    "df_positive = comm[comm.pol==0]\n",
    "df_positive.head(10)"
   ]
  },
  {
   "cell_type": "code",
   "execution_count": 16,
   "metadata": {},
   "outputs": [
    {
     "data": {
      "text/plain": [
       " 0.0    856\n",
       " 1.0    839\n",
       "-1.0    305\n",
       "Name: pol, dtype: int64"
      ]
     },
     "execution_count": 16,
     "metadata": {},
     "output_type": "execute_result"
    },
    {
     "data": {
      "image/png": "[encoded data removed]",
      "text/plain": [
       "<Figure size 432x288 with 1 Axes>"
      ]
     },
     "metadata": {
      "needs_background": "light"
     },
     "output_type": "display_data"
    }
   ],
   "source": [
    "comm.pol.value_counts().plot.bar()\n",
    "comm.pol.value_counts()\n"
   ]
  },
  {
   "cell_type": "code",
   "execution_count": null,
   "metadata": {},
   "outputs": [],
   "source": []
  }
 ],
 "metadata": {
  "kernelspec": {
   "display_name": "Python 3",
   "language": "python",
   "name": "python3"
  },
  "language_info": {
   "codemirror_mode": {
    "name": "ipython",
    "version": 3
   },
   "file_extension": ".py",
   "mimetype": "text/x-python",
   "name": "python",
   "nbconvert_exporter": "python",
   "pygments_lexer": "ipython3",
   "version": "3.7.6"
  }
 },
 "nbformat": 4,
 "nbformat_minor": 4
}
